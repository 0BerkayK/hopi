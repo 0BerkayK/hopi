{
 "cells": [
  {
   "cell_type": "markdown",
   "id": "9481abef-8c82-43c4-bacd-ac2a013cf609",
   "metadata": {},
   "source": [
    "## End-to-end data science project steps"
   ]
  },
  {
   "cell_type": "raw",
   "id": "0ac6b6bf-1881-4bfc-b46d-1782671972a4",
   "metadata": {},
   "source": [
    "🔹 1. Problemi Tanımlama\n",
    "🔹 2. Veri Toplama (Kaggle + generate duruma göre )\n",
    "🔹 3. EDA – Exploratory Data Analysis (boyutlar, kolon tipleri, eksik değerler, Özet istatistikler, Anomali, outlier tespiti)\n",
    "🔹 4. Veri Ön İşleme (Eksik değerlerin doldurulması/silinmesi, One-Hot, Label Encoding, feature engineering)\n",
    "🔹 5. Özellik Seçimi (Feature Selection)\n",
    "🔹 6. Model Seçimi ve Eğitimi (Regresyon, Sınıflandırma, Kümeleme)\n",
    "🔹 7. Model Değerlendirme (Her modele göre ayrı model değerlendirme metrikleri\n",
    "       Sınıflandırma: Accuracy, Precision, Recall, F1, ROC-AUC\n",
    "       Regresyon: RMSE, MAE, R², MSE, MAPE.\n",
    "       Kümeleme : Silhouette veya elbow duruma göre belirlencek *** \n",
    "🔹 8. Modelin Üretime Hazırlanması (Yapılmayacak)\n",
    "🔹 9. Model Dağıtımı (Yapılmayacak)\n",
    "🔹 10. İzleme ve Sürekli İyileştirme (A/B Test , Model Performans Metrikleri, Predictive model çıktıları ve  A/B Test / Deney Sonuçları BigQuery’ye kaydedilir sonra BigQuery'den dashboard'a ) "
   ]
  },
  {
   "cell_type": "markdown",
   "id": "0d940786-26e6-45ee-b913-047f8188e9fa",
   "metadata": {},
   "source": [
    "### Statistical Analysis"
   ]
  },
  {
   "cell_type": "markdown",
   "id": "9e02d99b-fb90-46dd-9d45-3cdbe8be037b",
   "metadata": {},
   "source": [
    "### Predictive Modeling"
   ]
  },
  {
   "cell_type": "markdown",
   "id": "0d399510-19c6-46e4-aeb7-5cd51fe8ee35",
   "metadata": {},
   "source": [
    "### Feature Engineering"
   ]
  },
  {
   "cell_type": "code",
   "execution_count": 174,
   "id": "544a06b2-65b9-4817-9208-b0c70c48c072",
   "metadata": {},
   "outputs": [],
   "source": [
    "import pandas as pd \n",
    "import numpy as np\n",
    "import matplotlib.pyplot as plt\n",
    "import seaborn as sns\n",
    "from sklearn.model_selection import train_test_split\n",
    "from sklearn.preprocessing import StandardScaler\n",
    "from sklearn.linear_model import LogisticRegression\n",
    "from sklearn.metrics import classification_report, confusion_matrix, roc_auc_score\n",
    "from scipy import stats"
   ]
  },
  {
   "cell_type": "code",
   "execution_count": 175,
   "id": "b8e53a48-391c-423d-9c97-aeb2cbcffee9",
   "metadata": {},
   "outputs": [],
   "source": [
    "np.random.seed(42)\n",
    "n = 1000\n",
    "data = pd.DataFrame({\n",
    "'user_id': np.arange(n),\n",
    "'sessions': np.random.poisson(10, n),\n",
    "'avg_session_time': np.random.normal(5, 2, n).clip(1, 15),\n",
    "'purchases': np.random.poisson(2, n),\n",
    "'spend': np.random.gamma(2, 50, n),\n",
    "'is_churned': np.random.binomial(1, 0.3, n)\n",
    "})"
   ]
  },
  {
   "cell_type": "code",
   "execution_count": null,
   "id": "e56c11fc-9292-471d-9ea3-9e6413bf94aa",
   "metadata": {},
   "outputs": [],
   "source": []
  },
  {
   "cell_type": "code",
   "execution_count": 176,
   "id": "ecfd762f-ebce-45ca-bd96-4bf5ce65a8c8",
   "metadata": {},
   "outputs": [
    {
     "name": "stdout",
     "output_type": "stream",
     "text": [
      "           user_id     sessions  avg_session_time    purchases        spend  \\\n",
      "count  1000.000000  1000.000000       1000.000000  1000.000000  1000.000000   \n",
      "mean    499.500000     9.904000          5.027470     1.972000   101.210306   \n",
      "std     288.819436     3.227879          1.944235     1.338285    72.606796   \n",
      "min       0.000000     1.000000          1.000000     0.000000     2.241157   \n",
      "25%     249.750000     8.000000          3.704001     1.000000    48.884109   \n",
      "50%     499.500000    10.000000          5.013863     2.000000    82.921066   \n",
      "75%     749.250000    12.000000          6.332043     3.000000   136.987401   \n",
      "max     999.000000    21.000000         12.852475     8.000000   581.749328   \n",
      "\n",
      "        is_churned  \n",
      "count  1000.000000  \n",
      "mean      0.288000  \n",
      "std       0.453058  \n",
      "min       0.000000  \n",
      "25%       0.000000  \n",
      "50%       0.000000  \n",
      "75%       1.000000  \n",
      "max       1.000000  \n"
     ]
    }
   ],
   "source": [
    "### EDA & Outlier Detection\n",
    "print(data.describe())"
   ]
  },
  {
   "cell_type": "code",
   "execution_count": 191,
   "id": "83aaf7f9-2d49-4e2c-b6ca-77d2f5dee31c",
   "metadata": {},
   "outputs": [
    {
     "data": {
      "image/png": "[encoded data removed]",
      "text/plain": [
       "<Figure size 640x480 with 1 Axes>"
      ]
     },
     "metadata": {},
     "output_type": "display_data"
    },
    {
     "data": {
      "image/png": "[encoded data removed]",
      "text/plain": [
       "<Figure size 640x480 with 1 Axes>"
      ]
     },
     "metadata": {},
     "output_type": "display_data"
    },
    {
     "data": {
      "image/png": "[encoded data removed]",
      "text/plain": [
       "<Figure size 640x480 with 1 Axes>"
      ]
     },
     "metadata": {},
     "output_type": "display_data"
    }
   ],
   "source": [
    "# aykırı değer boxplot üzerinden tespit ve görsel\n",
    "sns.boxplot(x=data['spend'])\n",
    "plt.show()\n",
    "\n",
    "sns.boxplot(x=data['avg_session_time'])\n",
    "plt.show()\n",
    "\n",
    "sns.boxplot(x=data['sessions'])\n",
    "plt.show()"
   ]
  },
  {
   "cell_type": "code",
   "execution_count": 192,
   "id": "d1433622-e6f2-49d9-8b01-30358200c81b",
   "metadata": {},
   "outputs": [],
   "source": [
    "# Z-score yöntemiyle outlier temizleme\n",
    "data = data[(np.abs(stats.zscore(data[['sessions','avg_session_time','spend']])) < 3).all(axis=1)]\n",
    "\n",
    "### Bir değerin ortalamadan kaç standart sapma uzaklıkta olduğunu hesaplar.\n",
    "\n",
    "### Z-score 3’ten büyükse (yani değer ortalamadan 3 standart sapmadan fazla uzaksa) bu genelde outlier kabul edilir.\n"
   ]
  },
  {
   "cell_type": "code",
   "execution_count": 193,
   "id": "5fb7d8b4-6b9a-4c29-87e1-bff8f20f09e4",
   "metadata": {},
   "outputs": [
    {
     "data": {
      "text/html": [
       "<div>\n",
       "<style scoped>\n",
       "    .dataframe tbody tr th:only-of-type {\n",
       "        vertical-align: middle;\n",
       "    }\n",
       "\n",
       "    .dataframe tbody tr th {\n",
       "        vertical-align: top;\n",
       "    }\n",
       "\n",
       "    .dataframe thead th {\n",
       "        text-align: right;\n",
       "    }\n",
       "</style>\n",
       "<table border=\"1\" class=\"dataframe\">\n",
       "  <thead>\n",
       "    <tr style=\"text-align: right;\">\n",
       "      <th></th>\n",
       "      <th>user_id</th>\n",
       "      <th>sessions</th>\n",
       "      <th>avg_session_time</th>\n",
       "      <th>purchases</th>\n",
       "      <th>spend</th>\n",
       "      <th>is_churned</th>\n",
       "      <th>spend_per_session</th>\n",
       "      <th>purchase_ratio</th>\n",
       "    </tr>\n",
       "  </thead>\n",
       "  <tbody>\n",
       "    <tr>\n",
       "      <th>0</th>\n",
       "      <td>0</td>\n",
       "      <td>12</td>\n",
       "      <td>6.430763</td>\n",
       "      <td>0</td>\n",
       "      <td>80.993704</td>\n",
       "      <td>1</td>\n",
       "      <td>6.749475</td>\n",
       "      <td>0.000000</td>\n",
       "    </tr>\n",
       "    <tr>\n",
       "      <th>1</th>\n",
       "      <td>1</td>\n",
       "      <td>6</td>\n",
       "      <td>6.436371</td>\n",
       "      <td>1</td>\n",
       "      <td>133.577599</td>\n",
       "      <td>0</td>\n",
       "      <td>22.262933</td>\n",
       "      <td>0.166667</td>\n",
       "    </tr>\n",
       "    <tr>\n",
       "      <th>2</th>\n",
       "      <td>2</td>\n",
       "      <td>11</td>\n",
       "      <td>5.876951</td>\n",
       "      <td>2</td>\n",
       "      <td>9.926975</td>\n",
       "      <td>0</td>\n",
       "      <td>0.902452</td>\n",
       "      <td>0.181818</td>\n",
       "    </tr>\n",
       "    <tr>\n",
       "      <th>3</th>\n",
       "      <td>3</td>\n",
       "      <td>14</td>\n",
       "      <td>5.039233</td>\n",
       "      <td>3</td>\n",
       "      <td>81.969497</td>\n",
       "      <td>0</td>\n",
       "      <td>5.854964</td>\n",
       "      <td>0.214286</td>\n",
       "    </tr>\n",
       "    <tr>\n",
       "      <th>4</th>\n",
       "      <td>4</td>\n",
       "      <td>7</td>\n",
       "      <td>6.345722</td>\n",
       "      <td>2</td>\n",
       "      <td>63.975250</td>\n",
       "      <td>0</td>\n",
       "      <td>9.139321</td>\n",
       "      <td>0.285714</td>\n",
       "    </tr>\n",
       "    <tr>\n",
       "      <th>...</th>\n",
       "      <td>...</td>\n",
       "      <td>...</td>\n",
       "      <td>...</td>\n",
       "      <td>...</td>\n",
       "      <td>...</td>\n",
       "      <td>...</td>\n",
       "      <td>...</td>\n",
       "      <td>...</td>\n",
       "    </tr>\n",
       "    <tr>\n",
       "      <th>995</th>\n",
       "      <td>995</td>\n",
       "      <td>6</td>\n",
       "      <td>4.283941</td>\n",
       "      <td>1</td>\n",
       "      <td>42.651542</td>\n",
       "      <td>0</td>\n",
       "      <td>7.108590</td>\n",
       "      <td>0.166667</td>\n",
       "    </tr>\n",
       "    <tr>\n",
       "      <th>996</th>\n",
       "      <td>996</td>\n",
       "      <td>10</td>\n",
       "      <td>4.721206</td>\n",
       "      <td>1</td>\n",
       "      <td>206.511210</td>\n",
       "      <td>0</td>\n",
       "      <td>20.651121</td>\n",
       "      <td>0.100000</td>\n",
       "    </tr>\n",
       "    <tr>\n",
       "      <th>997</th>\n",
       "      <td>997</td>\n",
       "      <td>10</td>\n",
       "      <td>6.479306</td>\n",
       "      <td>3</td>\n",
       "      <td>285.692057</td>\n",
       "      <td>0</td>\n",
       "      <td>28.569206</td>\n",
       "      <td>0.300000</td>\n",
       "    </tr>\n",
       "    <tr>\n",
       "      <th>998</th>\n",
       "      <td>998</td>\n",
       "      <td>18</td>\n",
       "      <td>1.181288</td>\n",
       "      <td>1</td>\n",
       "      <td>80.832049</td>\n",
       "      <td>0</td>\n",
       "      <td>4.490669</td>\n",
       "      <td>0.055556</td>\n",
       "    </tr>\n",
       "    <tr>\n",
       "      <th>999</th>\n",
       "      <td>999</td>\n",
       "      <td>12</td>\n",
       "      <td>7.636605</td>\n",
       "      <td>1</td>\n",
       "      <td>173.790042</td>\n",
       "      <td>0</td>\n",
       "      <td>14.482503</td>\n",
       "      <td>0.083333</td>\n",
       "    </tr>\n",
       "  </tbody>\n",
       "</table>\n",
       "<p>976 rows × 8 columns</p>\n",
       "</div>"
      ],
      "text/plain": [
       "     user_id  sessions  avg_session_time  purchases       spend  is_churned  \\\n",
       "0          0        12          6.430763          0   80.993704           1   \n",
       "1          1         6          6.436371          1  133.577599           0   \n",
       "2          2        11          5.876951          2    9.926975           0   \n",
       "3          3        14          5.039233          3   81.969497           0   \n",
       "4          4         7          6.345722          2   63.975250           0   \n",
       "..       ...       ...               ...        ...         ...         ...   \n",
       "995      995         6          4.283941          1   42.651542           0   \n",
       "996      996        10          4.721206          1  206.511210           0   \n",
       "997      997        10          6.479306          3  285.692057           0   \n",
       "998      998        18          1.181288          1   80.832049           0   \n",
       "999      999        12          7.636605          1  173.790042           0   \n",
       "\n",
       "     spend_per_session  purchase_ratio  \n",
       "0             6.749475        0.000000  \n",
       "1            22.262933        0.166667  \n",
       "2             0.902452        0.181818  \n",
       "3             5.854964        0.214286  \n",
       "4             9.139321        0.285714  \n",
       "..                 ...             ...  \n",
       "995           7.108590        0.166667  \n",
       "996          20.651121        0.100000  \n",
       "997          28.569206        0.300000  \n",
       "998           4.490669        0.055556  \n",
       "999          14.482503        0.083333  \n",
       "\n",
       "[976 rows x 8 columns]"
      ]
     },
     "execution_count": 193,
     "metadata": {},
     "output_type": "execute_result"
    }
   ],
   "source": [
    "data"
   ]
  },
  {
   "cell_type": "code",
   "execution_count": 194,
   "id": "543cb351-66c6-4ee2-8c36-d657ca5e4c3d",
   "metadata": {},
   "outputs": [],
   "source": [
    "# 4. Feature Engineering\n",
    "pd.options.mode.copy_on_write = True\n",
    "\n",
    "data['spend_per_session'] = data['spend'] / (data['sessions']) # sıfıra bölme hatasını engellemek için +1 yapmadım. session en düşük zaten 1 \n",
    "data['purchase_ratio'] = data['purchases'] / (data['sessions'])"
   ]
  },
  {
   "cell_type": "code",
   "execution_count": 195,
   "id": "9cc508c3-3f73-41d2-94dc-2f79cfc57889",
   "metadata": {},
   "outputs": [
    {
     "data": {
      "text/html": [
       "<div>\n",
       "<style scoped>\n",
       "    .dataframe tbody tr th:only-of-type {\n",
       "        vertical-align: middle;\n",
       "    }\n",
       "\n",
       "    .dataframe tbody tr th {\n",
       "        vertical-align: top;\n",
       "    }\n",
       "\n",
       "    .dataframe thead th {\n",
       "        text-align: right;\n",
       "    }\n",
       "</style>\n",
       "<table border=\"1\" class=\"dataframe\">\n",
       "  <thead>\n",
       "    <tr style=\"text-align: right;\">\n",
       "      <th></th>\n",
       "      <th>user_id</th>\n",
       "      <th>sessions</th>\n",
       "      <th>avg_session_time</th>\n",
       "      <th>purchases</th>\n",
       "      <th>spend</th>\n",
       "      <th>is_churned</th>\n",
       "      <th>spend_per_session</th>\n",
       "      <th>purchase_ratio</th>\n",
       "    </tr>\n",
       "  </thead>\n",
       "  <tbody>\n",
       "    <tr>\n",
       "      <th>0</th>\n",
       "      <td>0</td>\n",
       "      <td>12</td>\n",
       "      <td>6.430763</td>\n",
       "      <td>0</td>\n",
       "      <td>80.993704</td>\n",
       "      <td>1</td>\n",
       "      <td>6.749475</td>\n",
       "      <td>0.000000</td>\n",
       "    </tr>\n",
       "    <tr>\n",
       "      <th>1</th>\n",
       "      <td>1</td>\n",
       "      <td>6</td>\n",
       "      <td>6.436371</td>\n",
       "      <td>1</td>\n",
       "      <td>133.577599</td>\n",
       "      <td>0</td>\n",
       "      <td>22.262933</td>\n",
       "      <td>0.166667</td>\n",
       "    </tr>\n",
       "    <tr>\n",
       "      <th>2</th>\n",
       "      <td>2</td>\n",
       "      <td>11</td>\n",
       "      <td>5.876951</td>\n",
       "      <td>2</td>\n",
       "      <td>9.926975</td>\n",
       "      <td>0</td>\n",
       "      <td>0.902452</td>\n",
       "      <td>0.181818</td>\n",
       "    </tr>\n",
       "    <tr>\n",
       "      <th>3</th>\n",
       "      <td>3</td>\n",
       "      <td>14</td>\n",
       "      <td>5.039233</td>\n",
       "      <td>3</td>\n",
       "      <td>81.969497</td>\n",
       "      <td>0</td>\n",
       "      <td>5.854964</td>\n",
       "      <td>0.214286</td>\n",
       "    </tr>\n",
       "    <tr>\n",
       "      <th>4</th>\n",
       "      <td>4</td>\n",
       "      <td>7</td>\n",
       "      <td>6.345722</td>\n",
       "      <td>2</td>\n",
       "      <td>63.975250</td>\n",
       "      <td>0</td>\n",
       "      <td>9.139321</td>\n",
       "      <td>0.285714</td>\n",
       "    </tr>\n",
       "    <tr>\n",
       "      <th>...</th>\n",
       "      <td>...</td>\n",
       "      <td>...</td>\n",
       "      <td>...</td>\n",
       "      <td>...</td>\n",
       "      <td>...</td>\n",
       "      <td>...</td>\n",
       "      <td>...</td>\n",
       "      <td>...</td>\n",
       "    </tr>\n",
       "    <tr>\n",
       "      <th>995</th>\n",
       "      <td>995</td>\n",
       "      <td>6</td>\n",
       "      <td>4.283941</td>\n",
       "      <td>1</td>\n",
       "      <td>42.651542</td>\n",
       "      <td>0</td>\n",
       "      <td>7.108590</td>\n",
       "      <td>0.166667</td>\n",
       "    </tr>\n",
       "    <tr>\n",
       "      <th>996</th>\n",
       "      <td>996</td>\n",
       "      <td>10</td>\n",
       "      <td>4.721206</td>\n",
       "      <td>1</td>\n",
       "      <td>206.511210</td>\n",
       "      <td>0</td>\n",
       "      <td>20.651121</td>\n",
       "      <td>0.100000</td>\n",
       "    </tr>\n",
       "    <tr>\n",
       "      <th>997</th>\n",
       "      <td>997</td>\n",
       "      <td>10</td>\n",
       "      <td>6.479306</td>\n",
       "      <td>3</td>\n",
       "      <td>285.692057</td>\n",
       "      <td>0</td>\n",
       "      <td>28.569206</td>\n",
       "      <td>0.300000</td>\n",
       "    </tr>\n",
       "    <tr>\n",
       "      <th>998</th>\n",
       "      <td>998</td>\n",
       "      <td>18</td>\n",
       "      <td>1.181288</td>\n",
       "      <td>1</td>\n",
       "      <td>80.832049</td>\n",
       "      <td>0</td>\n",
       "      <td>4.490669</td>\n",
       "      <td>0.055556</td>\n",
       "    </tr>\n",
       "    <tr>\n",
       "      <th>999</th>\n",
       "      <td>999</td>\n",
       "      <td>12</td>\n",
       "      <td>7.636605</td>\n",
       "      <td>1</td>\n",
       "      <td>173.790042</td>\n",
       "      <td>0</td>\n",
       "      <td>14.482503</td>\n",
       "      <td>0.083333</td>\n",
       "    </tr>\n",
       "  </tbody>\n",
       "</table>\n",
       "<p>976 rows × 8 columns</p>\n",
       "</div>"
      ],
      "text/plain": [
       "     user_id  sessions  avg_session_time  purchases       spend  is_churned  \\\n",
       "0          0        12          6.430763          0   80.993704           1   \n",
       "1          1         6          6.436371          1  133.577599           0   \n",
       "2          2        11          5.876951          2    9.926975           0   \n",
       "3          3        14          5.039233          3   81.969497           0   \n",
       "4          4         7          6.345722          2   63.975250           0   \n",
       "..       ...       ...               ...        ...         ...         ...   \n",
       "995      995         6          4.283941          1   42.651542           0   \n",
       "996      996        10          4.721206          1  206.511210           0   \n",
       "997      997        10          6.479306          3  285.692057           0   \n",
       "998      998        18          1.181288          1   80.832049           0   \n",
       "999      999        12          7.636605          1  173.790042           0   \n",
       "\n",
       "     spend_per_session  purchase_ratio  \n",
       "0             6.749475        0.000000  \n",
       "1            22.262933        0.166667  \n",
       "2             0.902452        0.181818  \n",
       "3             5.854964        0.214286  \n",
       "4             9.139321        0.285714  \n",
       "..                 ...             ...  \n",
       "995           7.108590        0.166667  \n",
       "996          20.651121        0.100000  \n",
       "997          28.569206        0.300000  \n",
       "998           4.490669        0.055556  \n",
       "999          14.482503        0.083333  \n",
       "\n",
       "[976 rows x 8 columns]"
      ]
     },
     "execution_count": 195,
     "metadata": {},
     "output_type": "execute_result"
    }
   ],
   "source": [
    "data"
   ]
  },
  {
   "cell_type": "code",
   "execution_count": 196,
   "id": "078237c1-5c4a-4f10-8a93-62ffad612b24",
   "metadata": {},
   "outputs": [],
   "source": [
    "# 5. Modelleme (Churn Prediction) = > Classification\n",
    "X = data[['sessions','avg_session_time','spend','spend_per_session','purchase_ratio']] ### inputlarımız \n",
    "y = data['is_churned'] # outputs"
   ]
  },
  {
   "cell_type": "code",
   "execution_count": 197,
   "id": "89d2739f-6dcb-4be9-a554-db219572f7d0",
   "metadata": {},
   "outputs": [],
   "source": [
    "X_train, X_test, y_train, y_test = train_test_split(X, y, test_size=0.2, random_state=42) # %80 Train % 20 Test\n",
    "\n",
    "scaler = StandardScaler()\n",
    "X_train_scaled = scaler.fit_transform(X_train)\n",
    "X_test_scaled = scaler.transform(X_test)"
   ]
  },
  {
   "cell_type": "code",
   "execution_count": 198,
   "id": "11dc3056-bb33-4d43-a9e9-875c19074769",
   "metadata": {},
   "outputs": [],
   "source": [
    "model = LogisticRegression()\n",
    "model.fit(X_train_scaled, y_train)\n",
    "y_pred = model.predict(X_test_scaled)"
   ]
  },
  {
   "cell_type": "code",
   "execution_count": 199,
   "id": "c00ab787-1cbf-4842-9a53-71840097adf7",
   "metadata": {},
   "outputs": [
    {
     "name": "stdout",
     "output_type": "stream",
     "text": [
      "Classification Report:\n",
      "               precision    recall  f1-score   support\n",
      "\n",
      "           0       0.70      1.00      0.82       137\n",
      "           1       1.00      0.00      0.00        59\n",
      "\n",
      "    accuracy                           0.70       196\n",
      "   macro avg       0.85      0.50      0.41       196\n",
      "weighted avg       0.79      0.70      0.58       196\n",
      "\n",
      "ROC-AUC: 0.5\n"
     ]
    }
   ],
   "source": [
    "print(\"Classification Report:\\n\", classification_report(y_test, y_pred, zero_division=1.0))\n",
    "print(\"ROC-AUC:\", roc_auc_score(y_test, y_pred))"
   ]
  },
  {
   "cell_type": "code",
   "execution_count": 200,
   "id": "4e353b5e-3abc-4494-9b03-51a9ebe75b5d",
   "metadata": {},
   "outputs": [
    {
     "data": {
      "image/png": "[encoded data removed]",
      "text/plain": [
       "<Figure size 640x480 with 2 Axes>"
      ]
     },
     "metadata": {},
     "output_type": "display_data"
    }
   ],
   "source": [
    "# Confusion Matrix\n",
    "sns.heatmap(confusion_matrix(y_test,y_pred), annot=True, fmt='d')\n",
    "plt.show()"
   ]
  },
  {
   "cell_type": "code",
   "execution_count": 201,
   "id": "b45b4b08-19da-4463-85b1-e19801507138",
   "metadata": {},
   "outputs": [
    {
     "name": "stdout",
     "output_type": "stream",
     "text": [
      "Control Mean CTR: 0.138\n",
      "Treatment Mean CTR: 0.14\n",
      "T-stat: 0.09131836123684156 P-value: 0.9272579539840707\n"
     ]
    }
   ],
   "source": [
    "# 6. A/B Test Simülasyonu (yarım)\n",
    "# CTR farkını test etme Tıklama / Gösterim.\n",
    "\n",
    "## (CPC, CPM, CPI, CPA, CAC)\n",
    "\n",
    "### (ROAS, ROI, LTV, Payback Period)\n",
    "\n",
    "### (DAU/MAU, Retention, Churn)\n",
    "\n",
    "\n",
    "np.random.seed(42)\n",
    "control = np.random.binomial(1, 0.12, 500)\n",
    "treatment = np.random.binomial(1, 0.15, 500)\n",
    "\n",
    "\n",
    "print(\"Control Mean CTR:\", control.mean())\n",
    "print(\"Treatment Mean CTR:\", treatment.mean())\n",
    "\n",
    "\n",
    "# T-test\n",
    "t_stat, p_val = stats.ttest_ind(treatment, control)\n",
    "print(\"T-stat:\", t_stat, \"P-value:\", p_val)\n"
   ]
  },
  {
   "cell_type": "code",
   "execution_count": 202,
   "id": "8a387011-4a53-4e86-95ad-7f051e7df922",
   "metadata": {},
   "outputs": [
    {
     "name": "stdout",
     "output_type": "stream",
     "text": [
      "istatistiksel olarak anlamlı değildir.\n"
     ]
    }
   ],
   "source": [
    "if p_val < 0.05:\n",
    "    print(\"istatistiksel olarak anlamlıdır.\")\n",
    "else:\n",
    "    print(\"istatistiksel olarak anlamlı değildir.\")"
   ]
  },
  {
   "cell_type": "code",
   "execution_count": null,
   "id": "567faec0-b5ab-4b59-9adc-a32a49297596",
   "metadata": {},
   "outputs": [],
   "source": []
  }
 ],
 "metadata": {
  "kernelspec": {
   "display_name": "Python 3 (ipykernel)",
   "language": "python",
   "name": "python3"
  },
  "language_info": {
   "codemirror_mode": {
    "name": "ipython",
    "version": 3
   },
   "file_extension": ".py",
   "mimetype": "text/x-python",
   "name": "python",
   "nbconvert_exporter": "python",
   "pygments_lexer": "ipython3",
   "version": "3.12.7"
  }
 },
 "nbformat": 4,
 "nbformat_minor": 5
}
